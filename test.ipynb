{
 "cells": [
  {
   "cell_type": "code",
   "execution_count": 3,
   "metadata": {},
   "outputs": [],
   "source": [
    "import os\n",
    "import pandas as pd\n",
    "\n",
    "def run_command(cmd):\n",
    "    import subprocess\n",
    "    process = subprocess.Popen(cmd.split(), stdout=subprocess.PIPE)\n",
    "    output, error = process.communicate()\n",
    "    return output.decode('utf-8')\n",
    "\n",
    "def predict_partition(self, temperature_k =None, dms = None):\n",
    "    # predict the partition of rna structures\n",
    "    cmd = f\"{os.path.join(self.rnastructure_path, 'partition')} {self.fasta_file} {self.pfs_file}\"\n",
    "    if temperature_k != None:\n",
    "        cmd += ' --temperature '+str(temperature_k)\n",
    "    if type(dms) != type(None):\n",
    "        assert len(self.sequence) == len(dms), 'The length of the sequence is not the same as the length of the signal.'\n",
    "        assert type(dms) in [list, tuple, np.ndarray], 'The dms signal should be a list of floats.'\n",
    "        self.__write_dms_to_file(self.sequence, dms)\n",
    "        cmd += ' --dms ' + self.dms_file\n",
    "    run_command(cmd)\n",
    "    \n",
    "    # sum it into pairing probability\n",
    "    run_command(os.path.join(self.rnastructure_path,'ProbabilityPlot')+ ' ' +self.pfs_file + ' -t '+self.prob_file)\n",
    "    \n",
    "    # read the probability file \n",
    "    with open(self.prob_file,\"r\") as f:\n",
    "        lines=f.readlines()\n",
    "        pairingPrediction={'i':[],'j':[],'p':[]}\n",
    "        for x in range(len(lines)):\n",
    "            if x>1:\n",
    "                ls=lines[x].split(\"\\t\")\n",
    "                pairingPrediction[\"i\"]+=[int(ls[0])]\n",
    "                pairingPrediction[\"j\"]+=[int(ls[1])]\n",
    "                pairingPrediction[\"p\"]+=[float(ls[2])]\n",
    "    df = pd.DataFrame(pairingPrediction)\n",
    "    \n",
    "    return df"
   ]
  },
  {
   "cell_type": "code",
   "execution_count": 26,
   "metadata": {},
   "outputs": [
    {
     "data": {
      "text/plain": [
       "[(8, 155),\n",
       " (9, 154),\n",
       " (10, 153),\n",
       " (20, 42),\n",
       " (21, 41),\n",
       " (22, 40),\n",
       " (23, 39),\n",
       " (24, 38),\n",
       " (25, 37),\n",
       " (26, 36),\n",
       " (28, 35),\n",
       " (29, 34),\n",
       " (34, 29),\n",
       " (35, 28),\n",
       " (36, 26),\n",
       " (37, 25),\n",
       " (38, 24),\n",
       " (39, 23),\n",
       " (40, 22),\n",
       " (41, 21),\n",
       " (42, 20),\n",
       " (45, 64),\n",
       " (46, 63),\n",
       " (47, 62),\n",
       " (48, 61),\n",
       " (49, 60),\n",
       " (50, 59),\n",
       " (51, 58),\n",
       " (52, 57),\n",
       " (57, 52),\n",
       " (58, 51),\n",
       " (59, 50),\n",
       " (60, 49),\n",
       " (61, 48),\n",
       " (62, 47),\n",
       " (63, 46),\n",
       " (64, 45),\n",
       " (67, 84),\n",
       " (68, 83),\n",
       " (69, 82),\n",
       " (70, 81),\n",
       " (71, 80),\n",
       " (72, 79),\n",
       " (73, 78),\n",
       " (78, 73),\n",
       " (79, 72),\n",
       " (80, 71),\n",
       " (81, 70),\n",
       " (82, 69),\n",
       " (83, 68),\n",
       " (84, 67),\n",
       " (153, 10),\n",
       " (154, 9),\n",
       " (155, 8)]"
      ]
     },
     "execution_count": 26,
     "metadata": {},
     "output_type": "execute_result"
    }
   ],
   "source": [
    "\n",
    "\n",
    "ct2list('/Users/ymdt/src/RNAstructure-1/temp/temp.ct')"
   ]
  }
 ],
 "metadata": {
  "kernelspec": {
   "display_name": "silvi",
   "language": "python",
   "name": "python3"
  },
  "language_info": {
   "codemirror_mode": {
    "name": "ipython",
    "version": 3
   },
   "file_extension": ".py",
   "mimetype": "text/x-python",
   "name": "python",
   "nbconvert_exporter": "python",
   "pygments_lexer": "ipython3",
   "version": "3.10.10"
  },
  "orig_nbformat": 4
 },
 "nbformat": 4,
 "nbformat_minor": 2
}
