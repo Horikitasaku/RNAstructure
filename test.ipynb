{
 "cells": [
  {
   "cell_type": "code",
   "execution_count": 1,
   "metadata": {},
   "outputs": [],
   "source": [
    "import os\n",
    "import pandas as pd\n",
    "\n",
    "def run_command(cmd):\n",
    "    import subprocess\n",
    "    process = subprocess.Popen(cmd.split(), stdout=subprocess.PIPE)\n",
    "    output, error = process.communicate()\n",
    "    return output.decode('utf-8')\n",
    "\n",
    "def predict_partition(self, temperature_k =None, dms = None):\n",
    "    # predict the partition of rna structures\n",
    "    cmd = f\"{os.path.join(self.rnastructure_path, 'partition')} {self.fasta_file} {self.pfs_file}\"\n",
    "    if temperature_k != None:\n",
    "        cmd += ' --temperature '+str(temperature_k)\n",
    "    if type(dms) != type(None):\n",
    "        assert len(self.sequence) == len(dms), 'The length of the sequence is not the same as the length of the signal.'\n",
    "        assert type(dms) in [list, tuple, np.ndarray], 'The dms signal should be a list of floats.'\n",
    "        self.__write_dms_to_file(self.sequence, dms)\n",
    "        cmd += ' --dms ' + self.dms_file\n",
    "    run_command(cmd)\n",
    "    \n",
    "    # sum it into pairing probability\n",
    "    run_command(os.path.join(self.rnastructure_path,'ProbabilityPlot')+ ' ' +self.pfs_file + ' -t '+self.prob_file)\n",
    "    \n",
    "    # read the probability file \n",
    "    with open(self.prob_file,\"r\") as f:\n",
    "        lines=f.readlines()\n",
    "        pairingPrediction={'i':[],'j':[],'p':[]}\n",
    "        for x in range(len(lines)):\n",
    "            if x>1:\n",
    "                ls=lines[x].split(\"\\t\")\n",
    "                pairingPrediction[\"i\"]+=[int(ls[0])]\n",
    "                pairingPrediction[\"j\"]+=[int(ls[1])]\n",
    "                pairingPrediction[\"p\"]+=[float(ls[2])]\n",
    "    df = pd.DataFrame(pairingPrediction)"
   ]
  }
 ],
 "metadata": {
  "kernelspec": {
   "display_name": "silvi",
   "language": "python",
   "name": "python3"
  },
  "language_info": {
   "codemirror_mode": {
    "name": "ipython",
    "version": 3
   },
   "file_extension": ".py",
   "mimetype": "text/x-python",
   "name": "python",
   "nbconvert_exporter": "python",
   "pygments_lexer": "ipython3",
   "version": "3.10.10"
  },
  "orig_nbformat": 4
 },
 "nbformat": 4,
 "nbformat_minor": 2
}
